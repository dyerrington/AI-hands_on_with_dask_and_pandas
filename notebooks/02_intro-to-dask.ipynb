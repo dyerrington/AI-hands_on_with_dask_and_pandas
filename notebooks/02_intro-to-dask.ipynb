{
 "cells": [
  {
   "cell_type": "markdown",
   "metadata": {},
   "source": [
    "<img src=\"https://snipboard.io/Kx6OAi.jpg\">\n",
    "\n",
    "# Session 2. Intro to Dask\n",
    "<div style=\"margin-top: -10px; padding: 5px; line-height: 20px;\"><img src=\"https://snipboard.io/v5q47G.jpg\" style=\"width: 35px; float: left; margin-right: 10px;\"> Author:  <a href=\"http://www.linkedin.com/in/davidyerrington\">David Yerrington</a>, Data Scientist<br>San Francisco, CA</div>\n",
    "\n",
    "## Learning Objectives\n",
    "\n",
    "- Understand how graphs represent tasks with dependencies.\n",
    "- Assess trade-offs between various Dask data types.\n",
    "- Examining tasks in real-time using the Dask dashboard.\n",
    "\n",
    "### Prerequisite Knowledge\n",
    "- Basic Pandas \n",
    "  - Difference between Series vs Dataframe\n",
    "  - Bitmasks, query function, selecting data\n",
    "  - Aggregations\n",
    "\n",
    "## Environment Setup\n",
    "\n",
    "We will first review some basic points to setup Python and the environment to start in [the setup guide](../environment.md).\n"
   ]
  },
  {
   "cell_type": "markdown",
   "metadata": {},
   "source": [
    "## Imports"
   ]
  },
  {
   "cell_type": "code",
   "execution_count": null,
   "metadata": {},
   "outputs": [],
   "source": [
    "from dask.distributed import Client\n",
    "from dask import delayed\n",
    "import dask.bag as db\n",
    "import dask.array as da\n",
    "import time, json, dask\n",
    "\n",
    "## If you're having problems with excessive warnings, uncomment this import\n",
    "# import sys, warnings\n",
    "# warnings.simplefilter('ignore')\n",
    "# warnings.filterwarnings('ignore')"
   ]
  },
  {
   "cell_type": "markdown",
   "metadata": {},
   "source": [
    "### Question: What is the most difficult aspect to undertand of Dask parallel computing so far?"
   ]
  },
  {
   "cell_type": "markdown",
   "metadata": {},
   "source": [
    "## 1. The Obligatory DAG Examples\n",
    "\n",
    "### Example 1: Basic Methods\n",
    "\n",
    "This example is ubiquitous but a good place to start."
   ]
  },
  {
   "cell_type": "code",
   "execution_count": null,
   "metadata": {},
   "outputs": [],
   "source": [
    "## Setup a basic client first\n",
    "from dask.distributed import Client\n",
    "\n",
    "client = Client()\n",
    "client"
   ]
  },
  {
   "cell_type": "code",
   "execution_count": null,
   "metadata": {},
   "outputs": [],
   "source": [
    "def inc(x):\n",
    "    time.sleep(1)\n",
    "    return x + 1\n",
    "\n",
    "def add(a, b, c, d):\n",
    "    time.sleep(1)\n",
    "    return a + b + c + d"
   ]
  },
  {
   "cell_type": "markdown",
   "metadata": {},
   "source": [
    "## How long do we expect the next cell to run for?\n",
    "\n",
    "This is a basic example."
   ]
  },
  {
   "cell_type": "code",
   "execution_count": null,
   "metadata": {},
   "outputs": [],
   "source": [
    "%%time\n",
    "\n",
    "a = inc(10)\n",
    "b = inc(20)\n",
    "c = inc(30)\n",
    "d = inc(40)\n",
    "e = add(a, b, c, d)\n",
    "e"
   ]
  },
  {
   "cell_type": "markdown",
   "metadata": {},
   "source": [
    "###  Basic Methods - Parallalized!\n",
    "\n",
    "_Note the time._\n",
    "\n",
    "> If you have your own code that runs in some sort of logical order, you can use the \"delayed\" wrapper function (also works as a decorator).\n",
    "\n"
   ]
  },
  {
   "cell_type": "code",
   "execution_count": null,
   "metadata": {},
   "outputs": [],
   "source": [
    "%%time\n"
   ]
  },
  {
   "cell_type": "markdown",
   "metadata": {},
   "source": [
    "### What is happenning?\n",
    "\n",
    "> **GraphViz Problems?**\n",
    ">\n",
    "> If you are having trouble with the GraphViz executable, double check the [the setup guide](../environment.md).  Double check that your Graphviz executable is installed in your current notebook environment:  https://graphviz.org/download/\n",
    ">\n",
    "> GraphViz is nice to have but not essential for our session.  Notebooks will be updated with these visuals and checked in post-session."
   ]
  },
  {
   "cell_type": "code",
   "execution_count": null,
   "metadata": {},
   "outputs": [],
   "source": []
  },
  {
   "cell_type": "markdown",
   "metadata": {},
   "source": [
    "\n",
    "- The flow of the DAG happens from the bottom up.\n",
    "- The order of tasks is represented in the order they occur.\n",
    "- Names of functions are drawn over the task objects."
   ]
  },
  {
   "cell_type": "markdown",
   "metadata": {},
   "source": [
    "### Example 2: Iteration"
   ]
  },
  {
   "cell_type": "code",
   "execution_count": null,
   "metadata": {},
   "outputs": [],
   "source": [
    "%%time \n",
    "\n",
    "data = range(1, 5)\n",
    "\n",
    "results = []\n",
    "for i in data:\n",
    "    x = inc(i)\n",
    "    results.append(x)\n",
    "\n",
    "total = sum(results)\n",
    "total"
   ]
  },
  {
   "cell_type": "markdown",
   "metadata": {},
   "source": [
    "### Iteration - Parallelized!"
   ]
  },
  {
   "cell_type": "code",
   "execution_count": null,
   "metadata": {},
   "outputs": [],
   "source": [
    "%%time \n"
   ]
  },
  {
   "cell_type": "code",
   "execution_count": null,
   "metadata": {},
   "outputs": [],
   "source": [
    "# Visualize graph\n"
   ]
  },
  {
   "cell_type": "markdown",
   "metadata": {},
   "source": [
    "### Example 2: Iteration + Control Flows"
   ]
  },
  {
   "cell_type": "code",
   "execution_count": null,
   "metadata": {},
   "outputs": [],
   "source": [
    "%%time \n",
    "\n",
    "data = range(1, 10)\n",
    "\n",
    "def double(x):\n",
    "    return x * 2\n",
    "\n",
    "results = []\n",
    "# We will write this code from here"
   ]
  },
  {
   "cell_type": "code",
   "execution_count": null,
   "metadata": {},
   "outputs": [],
   "source": [
    "# Visualize"
   ]
  },
  {
   "cell_type": "markdown",
   "metadata": {},
   "source": [
    "## 2. Collection: Bag\n",
    "\n",
    "The Bag collection type (also known as a multiset) is a generic, distributed sequential type that works like a `list`.  The added feature is that you can specify how many partitions it will hold.  The `npartitions` parameter is used to control the granularity of parallelism.\n",
    "\n",
    ">  If you don't specify number of partitions, the default is ~100. \n",
    "\n",
    "![](https://snipboard.io/ezZcF4.jpg)\n",
    "\n",
    "### Properties\n",
    "- Bags are immutable!\n",
    "- Bags are parititoned.\n",
    "\n",
    "### Common Uses\n",
    "\n",
    "The bag `db` is schema-less, so it's flexible.  Working with lower-level tasks is its primary use case.  The main methods of transformation and use are provided by `.map`, `.filter`, `.fold`, and `groupby`.\n",
    "\n",
    "- Loading an entire directory of CSV files\n",
    "  - Local filesystem\n",
    "  - S3 Buckets\n",
    "  - gcs Buckets\n",
    "- Preprocessing data before loading it somewhere\n",
    "  - Large text corpus\n",
    "  - Unstructured data\n",
    "  - JSON files\n",
    "\n",
    "\n",
    "\n",
    "> ### Expected Questions\n",
    "> \n",
    "> **What is the optimal number of partitions!?**\n",
    "> \n",
    "> The answer is \"it depends.\"  Dask will do its best to set this for you.  Just about every collection type has several partition paramters you can work with.  If you're loading a directory of JSON files, each file will load into its partition.\n",
    ">\n",
    "> Some rules of thumb:\n",
    "> - Partitions should fit in memory (with room to spare).\n",
    "> - If you have to change this, fewer partitions with more data usually work better.\n",
    "> - Each partition takes a few milliseconds to access and begin processing (careful for overhead in having too many partitions).\n",
    "> - From experience, Dask does an excellent job of setting this automatically for you, and there are few cases where you want to mess with this."
   ]
  },
  {
   "cell_type": "code",
   "execution_count": null,
   "metadata": {},
   "outputs": [],
   "source": [
    "##  If you are getting the garbage collection message repeated, there is still an open issue on Dask's issue tracker about this\n",
    "##  https://github.com/dask/distributed/issues/2801\n",
    "\n",
    "seq = db.from_sequence(range(0, 20), npartitions = 4)"
   ]
  },
  {
   "cell_type": "markdown",
   "metadata": {},
   "source": [
    "### Question:  What do you think is going on with `seq` if we just reference it?"
   ]
  },
  {
   "cell_type": "code",
   "execution_count": null,
   "metadata": {},
   "outputs": [],
   "source": [
    "seq"
   ]
  },
  {
   "cell_type": "markdown",
   "metadata": {},
   "source": [
    "#### Getting limited results with `.take`"
   ]
  },
  {
   "cell_type": "code",
   "execution_count": null,
   "metadata": {},
   "outputs": [],
   "source": []
  },
  {
   "cell_type": "markdown",
   "metadata": {},
   "source": [
    "#### Getting all results with `.compute()`\n",
    "Dask Bag is \"lazy.\"  We have to ask the graph to run with either `.take(k)` or `.compute()`. With the `.compute()` method we convert the Bag back into a regular list."
   ]
  },
  {
   "cell_type": "code",
   "execution_count": null,
   "metadata": {},
   "outputs": [],
   "source": []
  },
  {
   "cell_type": "markdown",
   "metadata": {},
   "source": [
    "### Basic transformations with `.map()`"
   ]
  },
  {
   "cell_type": "code",
   "execution_count": null,
   "metadata": {},
   "outputs": [],
   "source": []
  },
  {
   "attachments": {
    "d07c0886-18e9-4630-8bdd-d326b00d6d21.png": {
     "image/png": "[encoded data removed]"
    }
   },
   "cell_type": "markdown",
   "metadata": {},
   "source": [
    "## 2. Collection: Array\n",
    "\n",
    "The Dask Array type is practically a scalable Numpy structure with some notable limitations.\n",
    "\n",
    "- Math opperations are supported:  `+`, `*`, `exp`, `log`, [and more](https://docs.dask.org/en/latest/array-api.html#linear-algebra).\n",
    "- Aggregate operations:  `sum`, `mean`, [and more](https://docs.dask.org/en/latest/array-api.html#)\n",
    "- Slicing / indexing: `x[:100, 500:100:-2]`\n",
    "- [Limited linear algebra methods](https://docs.dask.org/en/latest/array-api.html#linear-algebra).\n",
    "\n",
    "Like the Bag collection, Arrays are stored via partitions (sometimes referred to as \"duck arrays\").  The big difference is that with Array's, partitions are stored as a grid of chunks.\n",
    "\n",
    "![image.png](attachment:d07c0886-18e9-4630-8bdd-d326b00d6d21.png)\n",
    "\n",
    "Known limitations:\n",
    "\n",
    "- Not all linear algebra methods are supported.\n",
    "- Sorting is terrible (this is a hard problem to solve in parallel systems).\n",
    "- Most of what is being worked at the point in time of this session depends on need so there isn't a huge priority to lesser methods and the more obscure features of Numpy."
   ]
  },
  {
   "cell_type": "markdown",
   "metadata": {},
   "source": [
    "### 3. Reviewing the Dashboard\n",
    "\n",
    "From experience, the Dask Dashboard is kind of touchy as a local cluster on a Windows machine.  Sometimes it will crash.  Other times it will stop responding to requests while Dask fundamentally works.  When it stops functioning, the best thing to do is to restart your kernel and/or notebook environment in these circumstances.  On Mac or Linux, the Dashboard seems a lot more consistent.\n",
    "\n",
    "The prime reasons for using the Dashboard\n",
    "- Used for diagnostics \n",
    "- Handy to have in context while you work in Jupyter\n",
    "- Understand which types of operations account for your graph\n",
    "- Diagnose resource problems from a macro or micro level\n",
    "\n",
    "![](../media/dask_worker_run.gif)"
   ]
  },
  {
   "cell_type": "markdown",
   "metadata": {},
   "source": [
    "### Generate Some Random Data\n",
    "\n",
    "This is only a basic demo to get the diagnostics dashboard to come alive."
   ]
  },
  {
   "cell_type": "code",
   "execution_count": null,
   "metadata": {},
   "outputs": [
    {
     "name": "stderr",
     "output_type": "stream",
     "text": [
      "distributed.utils_perf - WARNING - full garbage collections took 37% CPU time recently (threshold: 10%)\n"
     ]
    }
   ],
   "source": [
    "a = da.random.random((10000, 10000, 10), chunks = (1000, 1000, 10))\n",
    "b = da.random.random((10000, 10000, 10), chunks = (1000, 1000, 10))\n",
    "c = (da.arcsin(a) + da.arccos(b)).sum(axis = (1, 2))"
   ]
  },
  {
   "cell_type": "markdown",
   "metadata": {},
   "source": [
    "\n",
    "\n",
    "#### The Progress Bars (Right to Left)\n",
    "\n",
    "- Each bar represents a task type and is coded by color.\n",
    "- The colors matches the timeline of events for each **Worker Core** above.\n",
    "\n",
    "**The solid grey color in the progress bar** represents tasks that are ready to run.  If there were more worker cores available, they would be able to run.\n",
    "![](https://snipboard.io/TqbhJ4.jpg)\n",
    "\n",
    "**The solid darker color close on the right side of the progress bar** is data actively used in memory.\n",
    "![](https://snipboard.io/NZPE7x.jpg)\n",
    "\n",
    "**The more translucent color the left on the progress bar** is data that was already processed and released from memory\n",
    "![](https://snipboard.io/Dwpnec.jpg)\n",
    "\n",
    "Generally, it's preferable that data doesn't get stuck in any one process too long and the window of memory per task moves consistently.\n",
    "\n",
    "#### Memory Usage\n",
    "\n",
    "![](https://snipboard.io/gnuxe2.jpg)\n",
    "\n",
    "Each of the bands in the memory usage graph represents the memory used per each worker.  If you roll your mouse over each bar, it will tell you how much memory is being used for the worker in context.  The number above the graph is the aggregate memory used by all workers.\n",
    "\n",
    "\n",
    "#### Tasks Processing\n",
    "\n",
    "![](https://snipboard.io/xSd36k.jpg)\n",
    "\n",
    "Each band is a worker on this graph just like memory usage.  The X-axis represents the number of tasks processing per worker."
   ]
  },
  {
   "cell_type": "markdown",
   "metadata": {},
   "source": [
    "### Another Reference Video of The Dashboard\n",
    "\n",
    "In the event of a catastrophic dashboard crash, I'm leaving this here in case we need something tangible to look at."
   ]
  },
  {
   "cell_type": "code",
   "execution_count": null,
   "metadata": {},
   "outputs": [],
   "source": [
    "from IPython.display import Video\n",
    "\n",
    "Video(\"../media/dask.mp4\", width = 900)"
   ]
  },
  {
   "cell_type": "markdown",
   "metadata": {},
   "source": [
    "### 4. Summary\n",
    "\n",
    "#### 1. Tasks are represented within DAGs\n",
    "\n",
    "- The flow of the DAG happens from the bottom up.\n",
    "- The order of tasks is represented in the order they occur.\n",
    "- Names of functions are drawn over the task objects.\n",
    "\n",
    "![](https://snipboard.io/LAYNta.jpg)\n",
    "\n",
    "> We used the `delayed` functionality, which enables the wrapping of existing Python functions into DAG tasks for parallelization.  This is useful for building custom graphs and adapting generic Python methods for Dask processing.\n",
    "\n",
    "#### 2. Dask provides simple yet powerful collection types\n",
    "\n",
    "#### Bag\n",
    "- Distributed lists.\n",
    "- Immutable type.\n",
    "- Data is stored by partition.\n",
    "- Similar to Spark's RDD.\n",
    "- Has basic `map`, `filter`, and `groupby` functionality.\n",
    "\n",
    "> **Great for:**\n",
    "> - Preprocessing and preparing data.\n",
    "> - Loading massive amounts of files stored in directories or buckets.\n",
    "> - Can be converted to a Dask DataFrame, which is quite similar to a regular Pandas DataFrame.\n",
    "\n",
    "#### Array\n",
    "- Distributed Numpy\n",
    "- Data also stored in partitions called \"chunks\" in a grid-like manner.\n",
    "- Supports the best of class features of Numpy.\n",
    "- Can do almost anything regular Numpy can do, but at scale.\n",
    "\n",
    "> **Known limitations:**\n",
    ">\n",
    "> - Not all linear algebra methods are supported.\n",
    "> - Sorting is terrible (this is a hard problem to solve in parallel systems).\n",
    "> - Most of what is being worked at the point in time of this session depend on need, so there isn't a massive priority to lesser methods and the more obscure features of Numpy.\n",
    "\n",
    "\n",
    "#### 3. Diagnostics Dashboard\n",
    "\n",
    "- Works standalone through the `client` object or as a Jupyterlab extension (convenient).\n",
    "- Can be buggy, especially on Windows.\n",
    "- Used for diagnostics\n",
    "- Handy to have in context while you work in Jupyter\n",
    "- Understand which types of operations account for your graph\n",
    "- Diagnose resource problems from a macro or micro level\n",
    "\n"
   ]
  }
 ],
 "metadata": {
  "kernelspec": {
   "display_name": "Python 3",
   "language": "python",
   "name": "python3"
  },
  "language_info": {
   "codemirror_mode": {
    "name": "ipython",
    "version": 3
   },
   "file_extension": ".py",
   "mimetype": "text/x-python",
   "name": "python",
   "nbconvert_exporter": "python",
   "pygments_lexer": "ipython3",
   "version": "3.8.2"
  }
 },
 "nbformat": 4,
 "nbformat_minor": 4
}
